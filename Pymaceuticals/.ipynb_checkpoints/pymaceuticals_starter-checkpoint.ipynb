{
 "cells": [
  {
   "cell_type": "markdown",
   "metadata": {},
   "source": [
    "## Observations and Insights "
   ]
  },
  {
   "cell_type": "markdown",
   "metadata": {},
   "source": []
  },
  {
   "cell_type": "code",
   "execution_count": 1,
   "metadata": {},
   "outputs": [],
   "source": [
    "# Dependencies and Setup\n",
    "# %matplotlib notebook <- this is for Graphs to be interactive\n",
    "import matplotlib.pyplot as plt\n",
    "import pandas as pd\n",
    "import scipy.stats as st\n",
    "import os\n",
    "import csv\n",
    "import numpy as np\n",
    "\n",
    "# Study data files\n",
    "mouse_metadata_path = \"data/Mouse_metadata.csv\"\n",
    "study_results_path = \"data/Study_results.csv\"\n",
    "\n",
    "# Read the mouse data and the study results\n",
    "mouse_metadata_df = pd.read_csv(mouse_metadata_path)\n",
    "study_results_df = pd.read_csv(study_results_path)"
   ]
  },
  {
   "cell_type": "code",
   "execution_count": 2,
   "metadata": {},
   "outputs": [
    {
     "data": {
      "text/html": [
       "<div>\n",
       "<style scoped>\n",
       "    .dataframe tbody tr th:only-of-type {\n",
       "        vertical-align: middle;\n",
       "    }\n",
       "\n",
       "    .dataframe tbody tr th {\n",
       "        vertical-align: top;\n",
       "    }\n",
       "\n",
       "    .dataframe thead th {\n",
       "        text-align: right;\n",
       "    }\n",
       "</style>\n",
       "<table border=\"1\" class=\"dataframe\">\n",
       "  <thead>\n",
       "    <tr style=\"text-align: right;\">\n",
       "      <th></th>\n",
       "      <th>Mouse ID</th>\n",
       "      <th>Drug Regimen</th>\n",
       "      <th>Sex</th>\n",
       "      <th>Age_months</th>\n",
       "      <th>Weight (g)</th>\n",
       "    </tr>\n",
       "  </thead>\n",
       "  <tbody>\n",
       "    <tr>\n",
       "      <th>0</th>\n",
       "      <td>k403</td>\n",
       "      <td>Ramicane</td>\n",
       "      <td>Male</td>\n",
       "      <td>21</td>\n",
       "      <td>16</td>\n",
       "    </tr>\n",
       "    <tr>\n",
       "      <th>1</th>\n",
       "      <td>s185</td>\n",
       "      <td>Capomulin</td>\n",
       "      <td>Female</td>\n",
       "      <td>3</td>\n",
       "      <td>17</td>\n",
       "    </tr>\n",
       "    <tr>\n",
       "      <th>2</th>\n",
       "      <td>x401</td>\n",
       "      <td>Capomulin</td>\n",
       "      <td>Female</td>\n",
       "      <td>16</td>\n",
       "      <td>15</td>\n",
       "    </tr>\n",
       "    <tr>\n",
       "      <th>3</th>\n",
       "      <td>m601</td>\n",
       "      <td>Capomulin</td>\n",
       "      <td>Male</td>\n",
       "      <td>22</td>\n",
       "      <td>17</td>\n",
       "    </tr>\n",
       "    <tr>\n",
       "      <th>4</th>\n",
       "      <td>g791</td>\n",
       "      <td>Ramicane</td>\n",
       "      <td>Male</td>\n",
       "      <td>11</td>\n",
       "      <td>16</td>\n",
       "    </tr>\n",
       "  </tbody>\n",
       "</table>\n",
       "</div>"
      ],
      "text/plain": [
       "  Mouse ID Drug Regimen     Sex  Age_months  Weight (g)\n",
       "0     k403     Ramicane    Male          21          16\n",
       "1     s185    Capomulin  Female           3          17\n",
       "2     x401    Capomulin  Female          16          15\n",
       "3     m601    Capomulin    Male          22          17\n",
       "4     g791     Ramicane    Male          11          16"
      ]
     },
     "execution_count": 2,
     "metadata": {},
     "output_type": "execute_result"
    }
   ],
   "source": [
    "mouse_metadata_df.head()"
   ]
  },
  {
   "cell_type": "code",
   "execution_count": 3,
   "metadata": {},
   "outputs": [
    {
     "data": {
      "text/html": [
       "<div>\n",
       "<style scoped>\n",
       "    .dataframe tbody tr th:only-of-type {\n",
       "        vertical-align: middle;\n",
       "    }\n",
       "\n",
       "    .dataframe tbody tr th {\n",
       "        vertical-align: top;\n",
       "    }\n",
       "\n",
       "    .dataframe thead th {\n",
       "        text-align: right;\n",
       "    }\n",
       "</style>\n",
       "<table border=\"1\" class=\"dataframe\">\n",
       "  <thead>\n",
       "    <tr style=\"text-align: right;\">\n",
       "      <th></th>\n",
       "      <th>Mouse ID</th>\n",
       "      <th>Timepoint</th>\n",
       "      <th>Tumor Volume (mm3)</th>\n",
       "      <th>Metastatic Sites</th>\n",
       "    </tr>\n",
       "  </thead>\n",
       "  <tbody>\n",
       "    <tr>\n",
       "      <th>0</th>\n",
       "      <td>b128</td>\n",
       "      <td>0</td>\n",
       "      <td>45.0</td>\n",
       "      <td>0</td>\n",
       "    </tr>\n",
       "    <tr>\n",
       "      <th>1</th>\n",
       "      <td>f932</td>\n",
       "      <td>0</td>\n",
       "      <td>45.0</td>\n",
       "      <td>0</td>\n",
       "    </tr>\n",
       "    <tr>\n",
       "      <th>2</th>\n",
       "      <td>g107</td>\n",
       "      <td>0</td>\n",
       "      <td>45.0</td>\n",
       "      <td>0</td>\n",
       "    </tr>\n",
       "    <tr>\n",
       "      <th>3</th>\n",
       "      <td>a457</td>\n",
       "      <td>0</td>\n",
       "      <td>45.0</td>\n",
       "      <td>0</td>\n",
       "    </tr>\n",
       "    <tr>\n",
       "      <th>4</th>\n",
       "      <td>c819</td>\n",
       "      <td>0</td>\n",
       "      <td>45.0</td>\n",
       "      <td>0</td>\n",
       "    </tr>\n",
       "  </tbody>\n",
       "</table>\n",
       "</div>"
      ],
      "text/plain": [
       "  Mouse ID  Timepoint  Tumor Volume (mm3)  Metastatic Sites\n",
       "0     b128          0                45.0                 0\n",
       "1     f932          0                45.0                 0\n",
       "2     g107          0                45.0                 0\n",
       "3     a457          0                45.0                 0\n",
       "4     c819          0                45.0                 0"
      ]
     },
     "execution_count": 3,
     "metadata": {},
     "output_type": "execute_result"
    }
   ],
   "source": [
    "study_results_df.head()"
   ]
  },
  {
   "cell_type": "code",
   "execution_count": 4,
   "metadata": {},
   "outputs": [
    {
     "data": {
      "text/html": [
       "<div>\n",
       "<style scoped>\n",
       "    .dataframe tbody tr th:only-of-type {\n",
       "        vertical-align: middle;\n",
       "    }\n",
       "\n",
       "    .dataframe tbody tr th {\n",
       "        vertical-align: top;\n",
       "    }\n",
       "\n",
       "    .dataframe thead th {\n",
       "        text-align: right;\n",
       "    }\n",
       "</style>\n",
       "<table border=\"1\" class=\"dataframe\">\n",
       "  <thead>\n",
       "    <tr style=\"text-align: right;\">\n",
       "      <th></th>\n",
       "      <th>Mouse ID</th>\n",
       "      <th>Timepoint</th>\n",
       "      <th>Tumor Volume (mm3)</th>\n",
       "      <th>Metastatic Sites</th>\n",
       "      <th>Drug Regimen</th>\n",
       "      <th>Sex</th>\n",
       "      <th>Age_months</th>\n",
       "      <th>Weight (g)</th>\n",
       "    </tr>\n",
       "  </thead>\n",
       "  <tbody>\n",
       "    <tr>\n",
       "      <th>0</th>\n",
       "      <td>b128</td>\n",
       "      <td>0</td>\n",
       "      <td>45.000000</td>\n",
       "      <td>0</td>\n",
       "      <td>Capomulin</td>\n",
       "      <td>Female</td>\n",
       "      <td>9</td>\n",
       "      <td>22</td>\n",
       "    </tr>\n",
       "    <tr>\n",
       "      <th>1</th>\n",
       "      <td>b128</td>\n",
       "      <td>5</td>\n",
       "      <td>45.651331</td>\n",
       "      <td>0</td>\n",
       "      <td>Capomulin</td>\n",
       "      <td>Female</td>\n",
       "      <td>9</td>\n",
       "      <td>22</td>\n",
       "    </tr>\n",
       "    <tr>\n",
       "      <th>2</th>\n",
       "      <td>b128</td>\n",
       "      <td>10</td>\n",
       "      <td>43.270852</td>\n",
       "      <td>0</td>\n",
       "      <td>Capomulin</td>\n",
       "      <td>Female</td>\n",
       "      <td>9</td>\n",
       "      <td>22</td>\n",
       "    </tr>\n",
       "    <tr>\n",
       "      <th>3</th>\n",
       "      <td>b128</td>\n",
       "      <td>15</td>\n",
       "      <td>43.784893</td>\n",
       "      <td>0</td>\n",
       "      <td>Capomulin</td>\n",
       "      <td>Female</td>\n",
       "      <td>9</td>\n",
       "      <td>22</td>\n",
       "    </tr>\n",
       "    <tr>\n",
       "      <th>4</th>\n",
       "      <td>b128</td>\n",
       "      <td>20</td>\n",
       "      <td>42.731552</td>\n",
       "      <td>0</td>\n",
       "      <td>Capomulin</td>\n",
       "      <td>Female</td>\n",
       "      <td>9</td>\n",
       "      <td>22</td>\n",
       "    </tr>\n",
       "  </tbody>\n",
       "</table>\n",
       "</div>"
      ],
      "text/plain": [
       "  Mouse ID  Timepoint  Tumor Volume (mm3)  Metastatic Sites Drug Regimen  \\\n",
       "0     b128          0           45.000000                 0    Capomulin   \n",
       "1     b128          5           45.651331                 0    Capomulin   \n",
       "2     b128         10           43.270852                 0    Capomulin   \n",
       "3     b128         15           43.784893                 0    Capomulin   \n",
       "4     b128         20           42.731552                 0    Capomulin   \n",
       "\n",
       "      Sex  Age_months  Weight (g)  \n",
       "0  Female           9          22  \n",
       "1  Female           9          22  \n",
       "2  Female           9          22  \n",
       "3  Female           9          22  \n",
       "4  Female           9          22  "
      ]
     },
     "execution_count": 4,
     "metadata": {},
     "output_type": "execute_result"
    }
   ],
   "source": [
    "# Combine the data into a single dataset\n",
    "combine_files_df = pd.merge(study_results_df, mouse_metadata_df, how='outer', on=\"Mouse ID\")\n",
    "\n",
    "# Display the data table for preview\n",
    "combine_files_df.head()"
   ]
  },
  {
   "cell_type": "code",
   "execution_count": 5,
   "metadata": {},
   "outputs": [
    {
     "data": {
      "text/plain": [
       "Mouse ID              1893\n",
       "Timepoint             1893\n",
       "Tumor Volume (mm3)    1893\n",
       "Metastatic Sites      1893\n",
       "Drug Regimen          1893\n",
       "Sex                   1893\n",
       "Age_months            1893\n",
       "Weight (g)            1893\n",
       "dtype: int64"
      ]
     },
     "execution_count": 5,
     "metadata": {},
     "output_type": "execute_result"
    }
   ],
   "source": [
    "# Checking the number of mice.\n",
    "mice_count_df = combine_files_df.dropna(how=\"any\")\n",
    "mice_count_df.count()"
   ]
  },
  {
   "cell_type": "code",
   "execution_count": 6,
   "metadata": {},
   "outputs": [
    {
     "data": {
      "text/plain": [
       "Mouse ID\n",
       "a203    10\n",
       "a251    10\n",
       "a262    10\n",
       "a275    10\n",
       "a366     7\n",
       "        ..\n",
       "z435     3\n",
       "z578    10\n",
       "z581    10\n",
       "z795    10\n",
       "z969    10\n",
       "Name: Timepoint, Length: 249, dtype: int64"
      ]
     },
     "execution_count": 6,
     "metadata": {},
     "output_type": "execute_result"
    }
   ],
   "source": [
    "# Getting the duplicate mice by ID number that shows up for Mouse ID and Timepoint. \n",
    "dup_mice_time_df = combine_files_df.groupby(\"Mouse ID\")[\"Timepoint\"].nunique()\n",
    "dup_mice_time_df"
   ]
  },
  {
   "cell_type": "code",
   "execution_count": 7,
   "metadata": {},
   "outputs": [
    {
     "data": {
      "text/html": [
       "<div>\n",
       "<style scoped>\n",
       "    .dataframe tbody tr th:only-of-type {\n",
       "        vertical-align: middle;\n",
       "    }\n",
       "\n",
       "    .dataframe tbody tr th {\n",
       "        vertical-align: top;\n",
       "    }\n",
       "\n",
       "    .dataframe thead th {\n",
       "        text-align: right;\n",
       "    }\n",
       "</style>\n",
       "<table border=\"1\" class=\"dataframe\">\n",
       "  <thead>\n",
       "    <tr style=\"text-align: right;\">\n",
       "      <th></th>\n",
       "      <th>Mouse ID</th>\n",
       "      <th>Timepoint</th>\n",
       "      <th>Tumor Volume (mm3)</th>\n",
       "      <th>Metastatic Sites</th>\n",
       "      <th>Drug Regimen</th>\n",
       "      <th>Sex</th>\n",
       "      <th>Age_months</th>\n",
       "      <th>Weight (g)</th>\n",
       "    </tr>\n",
       "  </thead>\n",
       "  <tbody>\n",
       "    <tr>\n",
       "      <th>9</th>\n",
       "      <td>b128</td>\n",
       "      <td>45</td>\n",
       "      <td>38.982878</td>\n",
       "      <td>2</td>\n",
       "      <td>Capomulin</td>\n",
       "      <td>Female</td>\n",
       "      <td>9</td>\n",
       "      <td>22</td>\n",
       "    </tr>\n",
       "    <tr>\n",
       "      <th>10</th>\n",
       "      <td>f932</td>\n",
       "      <td>0</td>\n",
       "      <td>45.000000</td>\n",
       "      <td>0</td>\n",
       "      <td>Ketapril</td>\n",
       "      <td>Male</td>\n",
       "      <td>15</td>\n",
       "      <td>29</td>\n",
       "    </tr>\n",
       "    <tr>\n",
       "      <th>18</th>\n",
       "      <td>g107</td>\n",
       "      <td>35</td>\n",
       "      <td>71.905117</td>\n",
       "      <td>0</td>\n",
       "      <td>Ketapril</td>\n",
       "      <td>Female</td>\n",
       "      <td>2</td>\n",
       "      <td>29</td>\n",
       "    </tr>\n",
       "    <tr>\n",
       "      <th>21</th>\n",
       "      <td>a457</td>\n",
       "      <td>10</td>\n",
       "      <td>49.783419</td>\n",
       "      <td>0</td>\n",
       "      <td>Ketapril</td>\n",
       "      <td>Female</td>\n",
       "      <td>11</td>\n",
       "      <td>30</td>\n",
       "    </tr>\n",
       "    <tr>\n",
       "      <th>30</th>\n",
       "      <td>c819</td>\n",
       "      <td>40</td>\n",
       "      <td>62.175705</td>\n",
       "      <td>1</td>\n",
       "      <td>Ketapril</td>\n",
       "      <td>Male</td>\n",
       "      <td>21</td>\n",
       "      <td>25</td>\n",
       "    </tr>\n",
       "  </tbody>\n",
       "</table>\n",
       "</div>"
      ],
      "text/plain": [
       "   Mouse ID  Timepoint  Tumor Volume (mm3)  Metastatic Sites Drug Regimen  \\\n",
       "9      b128         45           38.982878                 2    Capomulin   \n",
       "10     f932          0           45.000000                 0     Ketapril   \n",
       "18     g107         35           71.905117                 0     Ketapril   \n",
       "21     a457         10           49.783419                 0     Ketapril   \n",
       "30     c819         40           62.175705                 1     Ketapril   \n",
       "\n",
       "       Sex  Age_months  Weight (g)  \n",
       "9   Female           9          22  \n",
       "10    Male          15          29  \n",
       "18  Female           2          29  \n",
       "21  Female          11          30  \n",
       "30    Male          21          25  "
      ]
     },
     "execution_count": 7,
     "metadata": {},
     "output_type": "execute_result"
    }
   ],
   "source": [
    "# Create a clean DataFrame by dropping the duplicate mouse by its ID.\n",
    "clean_data_df = combine_files_df.drop_duplicates(subset=\"Mouse ID\", keep=\"last\")\n",
    "clean_data_df.head()"
   ]
  },
  {
   "cell_type": "code",
   "execution_count": 8,
   "metadata": {},
   "outputs": [],
   "source": [
    "# Optional: Get all the data for the duplicate mouse ID. "
   ]
  },
  {
   "cell_type": "code",
   "execution_count": 9,
   "metadata": {},
   "outputs": [
    {
     "data": {
      "text/plain": [
       "Mouse ID              249\n",
       "Timepoint             249\n",
       "Tumor Volume (mm3)    249\n",
       "Metastatic Sites      249\n",
       "Drug Regimen          249\n",
       "Sex                   249\n",
       "Age_months            249\n",
       "Weight (g)            249\n",
       "dtype: int64"
      ]
     },
     "execution_count": 9,
     "metadata": {},
     "output_type": "execute_result"
    }
   ],
   "source": [
    "# Checking the number of mice in the clean DataFrame.\n",
    "clean_mice_count_df = clean_data_df.dropna(how=\"any\")\n",
    "clean_mice_count_df.count()"
   ]
  },
  {
   "cell_type": "markdown",
   "metadata": {},
   "source": [
    "## Summary Statistics"
   ]
  },
  {
   "cell_type": "code",
   "execution_count": 10,
   "metadata": {},
   "outputs": [],
   "source": [
    "#Generate a summary statistics table of mean, median, variance,standard deviation, and SEM of the tumor volume for each regimen\n",
    "\n",
    "# Use groupby and summary statistical methods to calculate the following properties of each drug regimen: \n",
    "# mean, median, variance, standard deviation, and SEM of the tumor volume. \n",
    "# Assemble the resulting series into a single summary dataframe.\n"
   ]
  },
  {
   "cell_type": "code",
   "execution_count": 11,
   "metadata": {},
   "outputs": [
    {
     "data": {
      "text/html": [
       "<div>\n",
       "<style scoped>\n",
       "    .dataframe tbody tr th:only-of-type {\n",
       "        vertical-align: middle;\n",
       "    }\n",
       "\n",
       "    .dataframe tbody tr th {\n",
       "        vertical-align: top;\n",
       "    }\n",
       "\n",
       "    .dataframe thead th {\n",
       "        text-align: right;\n",
       "    }\n",
       "</style>\n",
       "<table border=\"1\" class=\"dataframe\">\n",
       "  <thead>\n",
       "    <tr style=\"text-align: right;\">\n",
       "      <th></th>\n",
       "      <th>Mouse ID</th>\n",
       "      <th>Timepoint</th>\n",
       "      <th>Tumor Volume (mm3)</th>\n",
       "      <th>Metastatic Sites</th>\n",
       "      <th>Drug Regimen</th>\n",
       "      <th>Sex</th>\n",
       "      <th>Age_months</th>\n",
       "      <th>Weight (g)</th>\n",
       "    </tr>\n",
       "  </thead>\n",
       "  <tbody>\n",
       "    <tr>\n",
       "      <th>9</th>\n",
       "      <td>b128</td>\n",
       "      <td>45</td>\n",
       "      <td>38.982878</td>\n",
       "      <td>2</td>\n",
       "      <td>Capomulin</td>\n",
       "      <td>Female</td>\n",
       "      <td>9</td>\n",
       "      <td>22</td>\n",
       "    </tr>\n",
       "    <tr>\n",
       "      <th>10</th>\n",
       "      <td>f932</td>\n",
       "      <td>0</td>\n",
       "      <td>45.000000</td>\n",
       "      <td>0</td>\n",
       "      <td>Ketapril</td>\n",
       "      <td>Male</td>\n",
       "      <td>15</td>\n",
       "      <td>29</td>\n",
       "    </tr>\n",
       "    <tr>\n",
       "      <th>18</th>\n",
       "      <td>g107</td>\n",
       "      <td>35</td>\n",
       "      <td>71.905117</td>\n",
       "      <td>0</td>\n",
       "      <td>Ketapril</td>\n",
       "      <td>Female</td>\n",
       "      <td>2</td>\n",
       "      <td>29</td>\n",
       "    </tr>\n",
       "    <tr>\n",
       "      <th>21</th>\n",
       "      <td>a457</td>\n",
       "      <td>10</td>\n",
       "      <td>49.783419</td>\n",
       "      <td>0</td>\n",
       "      <td>Ketapril</td>\n",
       "      <td>Female</td>\n",
       "      <td>11</td>\n",
       "      <td>30</td>\n",
       "    </tr>\n",
       "    <tr>\n",
       "      <th>30</th>\n",
       "      <td>c819</td>\n",
       "      <td>40</td>\n",
       "      <td>62.175705</td>\n",
       "      <td>1</td>\n",
       "      <td>Ketapril</td>\n",
       "      <td>Male</td>\n",
       "      <td>21</td>\n",
       "      <td>25</td>\n",
       "    </tr>\n",
       "  </tbody>\n",
       "</table>\n",
       "</div>"
      ],
      "text/plain": [
       "   Mouse ID  Timepoint  Tumor Volume (mm3)  Metastatic Sites Drug Regimen  \\\n",
       "9      b128         45           38.982878                 2    Capomulin   \n",
       "10     f932          0           45.000000                 0     Ketapril   \n",
       "18     g107         35           71.905117                 0     Ketapril   \n",
       "21     a457         10           49.783419                 0     Ketapril   \n",
       "30     c819         40           62.175705                 1     Ketapril   \n",
       "\n",
       "       Sex  Age_months  Weight (g)  \n",
       "9   Female           9          22  \n",
       "10    Male          15          29  \n",
       "18  Female           2          29  \n",
       "21  Female          11          30  \n",
       "30    Male          21          25  "
      ]
     },
     "execution_count": 11,
     "metadata": {},
     "output_type": "execute_result"
    }
   ],
   "source": [
    "#Rename the clean table to help with section of Homework working on.\n",
    "sum_stats_df = clean_data_df.copy(deep=True)\n",
    "sum_stats_df.head()"
   ]
  },
  {
   "cell_type": "code",
   "execution_count": 12,
   "metadata": {},
   "outputs": [
    {
     "data": {
      "text/plain": [
       "Index(['Mouse ID', 'Timepoint', 'Tumor Volume (mm3)', 'Metastatic Sites',\n",
       "       'Drug Regimen', 'Sex', 'Age_months', 'Weight (g)'],\n",
       "      dtype='object')"
      ]
     },
     "execution_count": 12,
     "metadata": {},
     "output_type": "execute_result"
    }
   ],
   "source": [
    "sum_stats_df.columns"
   ]
  },
  {
   "cell_type": "code",
   "execution_count": 13,
   "metadata": {},
   "outputs": [
    {
     "data": {
      "text/plain": [
       "Drug Regimen\n",
       "Capomulin    36.667568\n",
       "Ceftamin     57.753977\n",
       "Infubinol    58.178246\n",
       "Ketapril     62.806191\n",
       "Naftisol     61.205757\n",
       "Placebo      60.508414\n",
       "Propriva     56.736964\n",
       "Ramicane     36.191390\n",
       "Stelasyn     61.001707\n",
       "Zoniferol    59.181258\n",
       "Name: Tumor Volume (mm3), dtype: float64"
      ]
     },
     "execution_count": 13,
     "metadata": {},
     "output_type": "execute_result"
    }
   ],
   "source": [
    "#Mean of Tumor Volume\n",
    "mean_tumor = sum_stats_df.groupby([\"Drug Regimen\"]).mean()[\"Tumor Volume (mm3)\"]\n",
    "mean_tumor"
   ]
  },
  {
   "cell_type": "code",
   "execution_count": 14,
   "metadata": {},
   "outputs": [
    {
     "data": {
      "text/plain": [
       "Drug Regimen\n",
       "Capomulin    38.125164\n",
       "Ceftamin     59.851956\n",
       "Infubinol    60.165180\n",
       "Ketapril     64.487812\n",
       "Naftisol     63.283288\n",
       "Placebo      62.030594\n",
       "Propriva     55.841410\n",
       "Ramicane     36.561652\n",
       "Stelasyn     62.192350\n",
       "Zoniferol    61.840058\n",
       "Name: Tumor Volume (mm3), dtype: float64"
      ]
     },
     "execution_count": 14,
     "metadata": {},
     "output_type": "execute_result"
    }
   ],
   "source": [
    "#Median of Tumor Volume\n",
    "median_tumor= sum_stats_df.groupby([\"Drug Regimen\"]).median()[\"Tumor Volume (mm3)\"]\n",
    "median_tumor"
   ]
  },
  {
   "cell_type": "code",
   "execution_count": 15,
   "metadata": {},
   "outputs": [
    {
     "data": {
      "text/plain": [
       "Drug Regimen\n",
       "Capomulin     32.663378\n",
       "Ceftamin      69.982735\n",
       "Infubinol     74.010875\n",
       "Ketapril      98.921330\n",
       "Naftisol     106.029927\n",
       "Placebo       78.759797\n",
       "Propriva      69.349002\n",
       "Ramicane      32.166354\n",
       "Stelasyn      90.331586\n",
       "Zoniferol     76.862027\n",
       "Name: Tumor Volume (mm3), dtype: float64"
      ]
     },
     "execution_count": 15,
     "metadata": {},
     "output_type": "execute_result"
    }
   ],
   "source": [
    "#Variance of the tumor volume \n",
    "var_tumor = sum_stats_df.groupby([\"Drug Regimen\"]).var()[\"Tumor Volume (mm3)\"]\n",
    "var_tumor"
   ]
  },
  {
   "cell_type": "code",
   "execution_count": 16,
   "metadata": {},
   "outputs": [
    {
     "data": {
      "text/plain": [
       "Drug Regimen\n",
       "Capomulin     5.715188\n",
       "Ceftamin      8.365568\n",
       "Infubinol     8.602957\n",
       "Ketapril      9.945920\n",
       "Naftisol     10.297083\n",
       "Placebo       8.874672\n",
       "Propriva      8.327605\n",
       "Ramicane      5.671539\n",
       "Stelasyn      9.504293\n",
       "Zoniferol     8.767099\n",
       "Name: Tumor Volume (mm3), dtype: float64"
      ]
     },
     "execution_count": 16,
     "metadata": {},
     "output_type": "execute_result"
    }
   ],
   "source": [
    "#Sstandard deviation of Tumor Volume\n",
    "std_tumor = sum_stats_df.groupby([\"Drug Regimen\"]).std()[\"Tumor Volume (mm3)\"]\n",
    "std_tumor"
   ]
  },
  {
   "cell_type": "code",
   "execution_count": 17,
   "metadata": {},
   "outputs": [
    {
     "data": {
      "text/plain": [
       "Drug Regimen\n",
       "Capomulin    1.143038\n",
       "Ceftamin     1.673114\n",
       "Infubinol    1.720591\n",
       "Ketapril     1.989184\n",
       "Naftisol     2.059417\n",
       "Placebo      1.774934\n",
       "Propriva     1.665521\n",
       "Ramicane     1.134308\n",
       "Stelasyn     1.940056\n",
       "Zoniferol    1.753420\n",
       "Name: Tumor Volume (mm3), dtype: float64"
      ]
     },
     "execution_count": 17,
     "metadata": {},
     "output_type": "execute_result"
    }
   ],
   "source": [
    "#SEM of Tumor Volume\n",
    "sem_tumor = sum_stats_df.groupby([\"Drug Regimen\"]).sem()[\"Tumor Volume (mm3)\"]\n",
    "sem_tumor"
   ]
  },
  {
   "cell_type": "code",
   "execution_count": 18,
   "metadata": {},
   "outputs": [
    {
     "data": {
      "text/html": [
       "<div>\n",
       "<style scoped>\n",
       "    .dataframe tbody tr th:only-of-type {\n",
       "        vertical-align: middle;\n",
       "    }\n",
       "\n",
       "    .dataframe tbody tr th {\n",
       "        vertical-align: top;\n",
       "    }\n",
       "\n",
       "    .dataframe thead th {\n",
       "        text-align: right;\n",
       "    }\n",
       "</style>\n",
       "<table border=\"1\" class=\"dataframe\">\n",
       "  <thead>\n",
       "    <tr style=\"text-align: right;\">\n",
       "      <th></th>\n",
       "      <th>Mean of Tumor Volume</th>\n",
       "      <th>Median of Tumor Volume</th>\n",
       "      <th>Variance of Tumor Volume</th>\n",
       "      <th>STD of Tumor Volume</th>\n",
       "      <th>SEM of Tumor Volume</th>\n",
       "    </tr>\n",
       "    <tr>\n",
       "      <th>Drug Regimen</th>\n",
       "      <th></th>\n",
       "      <th></th>\n",
       "      <th></th>\n",
       "      <th></th>\n",
       "      <th></th>\n",
       "    </tr>\n",
       "  </thead>\n",
       "  <tbody>\n",
       "    <tr>\n",
       "      <th>Capomulin</th>\n",
       "      <td>36.67</td>\n",
       "      <td>38.13</td>\n",
       "      <td>32.66</td>\n",
       "      <td>5.72</td>\n",
       "      <td>1.14</td>\n",
       "    </tr>\n",
       "    <tr>\n",
       "      <th>Ceftamin</th>\n",
       "      <td>57.75</td>\n",
       "      <td>59.85</td>\n",
       "      <td>69.98</td>\n",
       "      <td>8.37</td>\n",
       "      <td>1.67</td>\n",
       "    </tr>\n",
       "    <tr>\n",
       "      <th>Infubinol</th>\n",
       "      <td>58.18</td>\n",
       "      <td>60.17</td>\n",
       "      <td>74.01</td>\n",
       "      <td>8.60</td>\n",
       "      <td>1.72</td>\n",
       "    </tr>\n",
       "    <tr>\n",
       "      <th>Ketapril</th>\n",
       "      <td>62.81</td>\n",
       "      <td>64.49</td>\n",
       "      <td>98.92</td>\n",
       "      <td>9.95</td>\n",
       "      <td>1.99</td>\n",
       "    </tr>\n",
       "    <tr>\n",
       "      <th>Naftisol</th>\n",
       "      <td>61.21</td>\n",
       "      <td>63.28</td>\n",
       "      <td>106.03</td>\n",
       "      <td>10.30</td>\n",
       "      <td>2.06</td>\n",
       "    </tr>\n",
       "    <tr>\n",
       "      <th>Placebo</th>\n",
       "      <td>60.51</td>\n",
       "      <td>62.03</td>\n",
       "      <td>78.76</td>\n",
       "      <td>8.87</td>\n",
       "      <td>1.77</td>\n",
       "    </tr>\n",
       "    <tr>\n",
       "      <th>Propriva</th>\n",
       "      <td>56.74</td>\n",
       "      <td>55.84</td>\n",
       "      <td>69.35</td>\n",
       "      <td>8.33</td>\n",
       "      <td>1.67</td>\n",
       "    </tr>\n",
       "    <tr>\n",
       "      <th>Ramicane</th>\n",
       "      <td>36.19</td>\n",
       "      <td>36.56</td>\n",
       "      <td>32.17</td>\n",
       "      <td>5.67</td>\n",
       "      <td>1.13</td>\n",
       "    </tr>\n",
       "    <tr>\n",
       "      <th>Stelasyn</th>\n",
       "      <td>61.00</td>\n",
       "      <td>62.19</td>\n",
       "      <td>90.33</td>\n",
       "      <td>9.50</td>\n",
       "      <td>1.94</td>\n",
       "    </tr>\n",
       "    <tr>\n",
       "      <th>Zoniferol</th>\n",
       "      <td>59.18</td>\n",
       "      <td>61.84</td>\n",
       "      <td>76.86</td>\n",
       "      <td>8.77</td>\n",
       "      <td>1.75</td>\n",
       "    </tr>\n",
       "  </tbody>\n",
       "</table>\n",
       "</div>"
      ],
      "text/plain": [
       "              Mean of Tumor Volume  Median of Tumor Volume  \\\n",
       "Drug Regimen                                                 \n",
       "Capomulin                    36.67                   38.13   \n",
       "Ceftamin                     57.75                   59.85   \n",
       "Infubinol                    58.18                   60.17   \n",
       "Ketapril                     62.81                   64.49   \n",
       "Naftisol                     61.21                   63.28   \n",
       "Placebo                      60.51                   62.03   \n",
       "Propriva                     56.74                   55.84   \n",
       "Ramicane                     36.19                   36.56   \n",
       "Stelasyn                     61.00                   62.19   \n",
       "Zoniferol                    59.18                   61.84   \n",
       "\n",
       "              Variance of Tumor Volume  STD of Tumor Volume  \\\n",
       "Drug Regimen                                                  \n",
       "Capomulin                        32.66                 5.72   \n",
       "Ceftamin                         69.98                 8.37   \n",
       "Infubinol                        74.01                 8.60   \n",
       "Ketapril                         98.92                 9.95   \n",
       "Naftisol                        106.03                10.30   \n",
       "Placebo                          78.76                 8.87   \n",
       "Propriva                         69.35                 8.33   \n",
       "Ramicane                         32.17                 5.67   \n",
       "Stelasyn                         90.33                 9.50   \n",
       "Zoniferol                        76.86                 8.77   \n",
       "\n",
       "              SEM of Tumor Volume  \n",
       "Drug Regimen                       \n",
       "Capomulin                    1.14  \n",
       "Ceftamin                     1.67  \n",
       "Infubinol                    1.72  \n",
       "Ketapril                     1.99  \n",
       "Naftisol                     2.06  \n",
       "Placebo                      1.77  \n",
       "Propriva                     1.67  \n",
       "Ramicane                     1.13  \n",
       "Stelasyn                     1.94  \n",
       "Zoniferol                    1.75  "
      ]
     },
     "execution_count": 18,
     "metadata": {},
     "output_type": "execute_result"
    }
   ],
   "source": [
    "# Use groupby and summary statistical methods to calculate the following properties of each drug regimen: \n",
    "summary_stats_df = pd.DataFrame({'Mean of Tumor Volume':round(mean_tumor,2),\n",
    "                          'Median of Tumor Volume':round(median_tumor,2),\n",
    "                          'Variance of Tumor Volume':round(var_tumor,2),\n",
    "                          'STD of Tumor Volume':round(std_tumor,2),\n",
    "                          'SEM of Tumor Volume': round(sem_tumor,2)})\n",
    "summary_stats_df"
   ]
  },
  {
   "cell_type": "markdown",
   "metadata": {},
   "source": [
    "## Bar and Pie Charts"
   ]
  },
  {
   "cell_type": "code",
   "execution_count": 19,
   "metadata": {},
   "outputs": [
    {
     "data": {
      "text/html": [
       "<div>\n",
       "<style scoped>\n",
       "    .dataframe tbody tr th:only-of-type {\n",
       "        vertical-align: middle;\n",
       "    }\n",
       "\n",
       "    .dataframe tbody tr th {\n",
       "        vertical-align: top;\n",
       "    }\n",
       "\n",
       "    .dataframe thead th {\n",
       "        text-align: right;\n",
       "    }\n",
       "</style>\n",
       "<table border=\"1\" class=\"dataframe\">\n",
       "  <thead>\n",
       "    <tr style=\"text-align: right;\">\n",
       "      <th></th>\n",
       "      <th>Mouse ID</th>\n",
       "      <th>Timepoint</th>\n",
       "      <th>Tumor Volume (mm3)</th>\n",
       "      <th>Metastatic Sites</th>\n",
       "      <th>Drug Regimen</th>\n",
       "      <th>Sex</th>\n",
       "      <th>Age_months</th>\n",
       "      <th>Weight (g)</th>\n",
       "    </tr>\n",
       "  </thead>\n",
       "  <tbody>\n",
       "    <tr>\n",
       "      <th>9</th>\n",
       "      <td>b128</td>\n",
       "      <td>45</td>\n",
       "      <td>38.982878</td>\n",
       "      <td>2</td>\n",
       "      <td>Capomulin</td>\n",
       "      <td>Female</td>\n",
       "      <td>9</td>\n",
       "      <td>22</td>\n",
       "    </tr>\n",
       "    <tr>\n",
       "      <th>10</th>\n",
       "      <td>f932</td>\n",
       "      <td>0</td>\n",
       "      <td>45.000000</td>\n",
       "      <td>0</td>\n",
       "      <td>Ketapril</td>\n",
       "      <td>Male</td>\n",
       "      <td>15</td>\n",
       "      <td>29</td>\n",
       "    </tr>\n",
       "    <tr>\n",
       "      <th>18</th>\n",
       "      <td>g107</td>\n",
       "      <td>35</td>\n",
       "      <td>71.905117</td>\n",
       "      <td>0</td>\n",
       "      <td>Ketapril</td>\n",
       "      <td>Female</td>\n",
       "      <td>2</td>\n",
       "      <td>29</td>\n",
       "    </tr>\n",
       "    <tr>\n",
       "      <th>21</th>\n",
       "      <td>a457</td>\n",
       "      <td>10</td>\n",
       "      <td>49.783419</td>\n",
       "      <td>0</td>\n",
       "      <td>Ketapril</td>\n",
       "      <td>Female</td>\n",
       "      <td>11</td>\n",
       "      <td>30</td>\n",
       "    </tr>\n",
       "    <tr>\n",
       "      <th>30</th>\n",
       "      <td>c819</td>\n",
       "      <td>40</td>\n",
       "      <td>62.175705</td>\n",
       "      <td>1</td>\n",
       "      <td>Ketapril</td>\n",
       "      <td>Male</td>\n",
       "      <td>21</td>\n",
       "      <td>25</td>\n",
       "    </tr>\n",
       "  </tbody>\n",
       "</table>\n",
       "</div>"
      ],
      "text/plain": [
       "   Mouse ID  Timepoint  Tumor Volume (mm3)  Metastatic Sites Drug Regimen  \\\n",
       "9      b128         45           38.982878                 2    Capomulin   \n",
       "10     f932          0           45.000000                 0     Ketapril   \n",
       "18     g107         35           71.905117                 0     Ketapril   \n",
       "21     a457         10           49.783419                 0     Ketapril   \n",
       "30     c819         40           62.175705                 1     Ketapril   \n",
       "\n",
       "       Sex  Age_months  Weight (g)  \n",
       "9   Female           9          22  \n",
       "10    Male          15          29  \n",
       "18  Female           2          29  \n",
       "21  Female          11          30  \n",
       "30    Male          21          25  "
      ]
     },
     "execution_count": 19,
     "metadata": {},
     "output_type": "execute_result"
    }
   ],
   "source": [
    "# Generate a bar plot showing the total number of timepoints for all mice tested for each drug regimen using Pandas.\n",
    "\n",
    "#Generating Table for refrence in this section of the Homework\n",
    "bar_pie_chart_df = clean_data_df.copy(deep=True)\n",
    "bar_pie_chart_df.head()"
   ]
  },
  {
   "cell_type": "code",
   "execution_count": 20,
   "metadata": {},
   "outputs": [
    {
     "data": {
      "text/html": [
       "<div>\n",
       "<style scoped>\n",
       "    .dataframe tbody tr th:only-of-type {\n",
       "        vertical-align: middle;\n",
       "    }\n",
       "\n",
       "    .dataframe tbody tr th {\n",
       "        vertical-align: top;\n",
       "    }\n",
       "\n",
       "    .dataframe thead th {\n",
       "        text-align: right;\n",
       "    }\n",
       "</style>\n",
       "<table border=\"1\" class=\"dataframe\">\n",
       "  <thead>\n",
       "    <tr style=\"text-align: right;\">\n",
       "      <th></th>\n",
       "      <th>Drug Regimen</th>\n",
       "    </tr>\n",
       "  </thead>\n",
       "  <tbody>\n",
       "    <tr>\n",
       "      <th>Naftisol</th>\n",
       "      <td>25</td>\n",
       "    </tr>\n",
       "    <tr>\n",
       "      <th>Infubinol</th>\n",
       "      <td>25</td>\n",
       "    </tr>\n",
       "    <tr>\n",
       "      <th>Capomulin</th>\n",
       "      <td>25</td>\n",
       "    </tr>\n",
       "    <tr>\n",
       "      <th>Ketapril</th>\n",
       "      <td>25</td>\n",
       "    </tr>\n",
       "    <tr>\n",
       "      <th>Ceftamin</th>\n",
       "      <td>25</td>\n",
       "    </tr>\n",
       "  </tbody>\n",
       "</table>\n",
       "</div>"
      ],
      "text/plain": [
       "           Drug Regimen\n",
       "Naftisol             25\n",
       "Infubinol            25\n",
       "Capomulin            25\n",
       "Ketapril             25\n",
       "Ceftamin             25"
      ]
     },
     "execution_count": 20,
     "metadata": {},
     "output_type": "execute_result"
    }
   ],
   "source": [
    "#Generating a Data Frame total of Drug Reigmen\n",
    "timepoints_mice_df= pd.DataFrame(pd.value_counts(bar_pie_chart_df[\"Drug Regimen\"]))\n",
    "timepoints_mice_df.head()"
   ]
  },
  {
   "cell_type": "code",
   "execution_count": 21,
   "metadata": {},
   "outputs": [
    {
     "data": {
      "image/png": "[encoded data removed]",
      "text/plain": [
       "<Figure size 432x288 with 1 Axes>"
      ]
     },
     "metadata": {
      "needs_background": "light"
     },
     "output_type": "display_data"
    },
    {
     "data": {
      "text/plain": [
       "<Figure size 432x288 with 0 Axes>"
      ]
     },
     "metadata": {},
     "output_type": "display_data"
    }
   ],
   "source": [
    "#Generating Bar Chart\n",
    "timepoints_mice_df.plot(kind= \"bar\", title=\"Data per Drug Regimen\")\n",
    "plt.ylabel(\"Number of Mice Per Time Point\")\n",
    "plt.xlabel(\"Drug Regimen\")\n",
    "plt.show()\n",
    "plt.tight_layout()"
   ]
  },
  {
   "cell_type": "code",
   "execution_count": 22,
   "metadata": {},
   "outputs": [
    {
     "data": {
      "image/png": "[encoded data removed]",
      "text/plain": [
       "<Figure size 432x288 with 1 Axes>"
      ]
     },
     "metadata": {
      "needs_background": "light"
     },
     "output_type": "display_data"
    }
   ],
   "source": [
    "# Generate a bar plot showing the total number of timepoints for all mice tested for each drug regimen using pyplot.\n",
    "x_axis = bar_pie_chart_df[\"Drug Regimen\"].value_counts().index\n",
    "y_axis = bar_pie_chart_df[\"Drug Regimen\"].value_counts()\n",
    "plt.bar(x_axis,y_axis, width = .6)\n",
    "plt.xticks(x_axis, rotation = 90)\n",
    "plt.xlim(-0.75, len(x_axis)-0.25)\n",
    "plt.ylim(0, max(y_axis)+0.4)\n",
    "plt.ylabel(\"Number of Mice Per Time Point\")\n",
    "plt.xlabel(\"Drug Regimen\")\n",
    "plt.title(\"Data per Drug Regimen\")\n",
    "plt.show()"
   ]
  },
  {
   "cell_type": "code",
   "execution_count": 23,
   "metadata": {},
   "outputs": [
    {
     "data": {
      "text/plain": [
       "Male      125\n",
       "Female    124\n",
       "Name: Sex, dtype: int64"
      ]
     },
     "execution_count": 23,
     "metadata": {},
     "output_type": "execute_result"
    }
   ],
   "source": [
    "# Generate a pie plot showing the distribution of female versus male mice using Pandas\n",
    "gender_mice= pd.value_counts(bar_pie_chart_df['Sex'])\n",
    "gender_mice.head()"
   ]
  },
  {
   "cell_type": "code",
   "execution_count": 24,
   "metadata": {},
   "outputs": [
    {
     "data": {
      "image/png": "[encoded data removed]",
      "text/plain": [
       "<Figure size 432x288 with 1 Axes>"
      ]
     },
     "metadata": {},
     "output_type": "display_data"
    }
   ],
   "source": [
    "gender_pie = gender_mice.plot(kind=\"pie\", y=\"sex\", autopct='%1.1f%%',title=\" Female vs Male mice \", startangle=140)\n",
    "gender_pie.set_ylabel(\"Sex\")\n",
    "plt.tight_layout()\n",
    "plt.axis(\"equal\")\n",
    "plt.show()"
   ]
  },
  {
   "cell_type": "code",
   "execution_count": 25,
   "metadata": {},
   "outputs": [],
   "source": [
    "# Generate a pie plot showing the distribution of female versus male mice using pyplot\n",
    "\n"
   ]
  },
  {
   "cell_type": "markdown",
   "metadata": {},
   "source": [
    "## Quartiles, Outliers and Boxplots"
   ]
  },
  {
   "cell_type": "code",
   "execution_count": 26,
   "metadata": {},
   "outputs": [],
   "source": [
    "# Calculate the final tumor volume of each mouse across four of the treatment regimens:  \n",
    "# Capomulin, Ramicane, Infubinol, and Ceftamin\n",
    "\n",
    "# Start by getting the last (greatest) timepoint for each mouse\n",
    "\n",
    "\n",
    "# Merge this group df with the original dataframe to get the tumor volume at the last timepoint\n"
   ]
  },
  {
   "cell_type": "code",
   "execution_count": 27,
   "metadata": {},
   "outputs": [],
   "source": [
    "# Put treatments into a list for for loop (and later for plot labels)\n",
    "\n",
    "\n",
    "# Create empty list to fill with tumor vol data (for plotting)\n",
    "\n",
    "\n",
    "# Calculate the IQR and quantitatively determine if there are any potential outliers. \n",
    "\n",
    "    \n",
    "    # Locate the rows which contain mice on each drug and get the tumor volumes\n",
    "    \n",
    "    \n",
    "    # add subset \n",
    "    \n",
    "    \n",
    "    # Determine outliers using upper and lower bounds\n",
    "    "
   ]
  },
  {
   "cell_type": "code",
   "execution_count": 28,
   "metadata": {},
   "outputs": [],
   "source": [
    "# Generate a box plot of the final tumor volume of each mouse across four regimens of interest\n"
   ]
  },
  {
   "cell_type": "markdown",
   "metadata": {},
   "source": [
    "## Line and Scatter Plots"
   ]
  },
  {
   "cell_type": "code",
   "execution_count": 29,
   "metadata": {},
   "outputs": [],
   "source": [
    "# Generate a line plot of tumor volume vs. time point for a mouse treated with Capomulin\n"
   ]
  },
  {
   "cell_type": "code",
   "execution_count": 30,
   "metadata": {},
   "outputs": [],
   "source": [
    "# Generate a scatter plot of average tumor volume vs. mouse weight for the Capomulin regimen\n"
   ]
  },
  {
   "cell_type": "markdown",
   "metadata": {},
   "source": [
    "## Correlation and Regression"
   ]
  },
  {
   "cell_type": "code",
   "execution_count": 31,
   "metadata": {},
   "outputs": [],
   "source": [
    "# Calculate the correlation coefficient and linear regression model \n",
    "# for mouse weight and average tumor volume for the Capomulin regimen\n"
   ]
  },
  {
   "cell_type": "code",
   "execution_count": null,
   "metadata": {},
   "outputs": [],
   "source": []
  }
 ],
 "metadata": {
  "anaconda-cloud": {},
  "kernelspec": {
   "display_name": "Python 3",
   "language": "python",
   "name": "python3"
  },
  "language_info": {
   "codemirror_mode": {
    "name": "ipython",
    "version": 3
   },
   "file_extension": ".py",
   "mimetype": "text/x-python",
   "name": "python",
   "nbconvert_exporter": "python",
   "pygments_lexer": "ipython3",
   "version": "3.6.10"
  }
 },
 "nbformat": 4,
 "nbformat_minor": 4
}
